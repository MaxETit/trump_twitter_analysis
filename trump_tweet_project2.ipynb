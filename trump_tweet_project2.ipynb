{
 "cells": [
  {
   "cell_type": "markdown",
   "metadata": {},
   "source": [
    "# Trump Tweet Analysis\n",
    "\n",
    "In this project I will analyse a dataset of Donald Trump tweets, starting from his first tweet until sometime in August 2017. \n",
    "\n",
    "A preliminary investigation of his tweets will seek to uncover what topics and which names occur most frequently throughout Trump's Twitter history - particularly phrases relating to Barack Obama, Hilary Clinton, topics such as 'fake news' and more. Afterwards, we will undertake a basic analysis of the tone of Trump's tweets to discover whether the content of his tweets are broadly positive or negative in nature. Given his reputation as a divisive person, we may expect a large number of negative adjectives (the metric chosen to determine tone) in his tweets.\n",
    "\n",
    "## The first step is to import the data and clean it"
   ]
  },
  {
   "cell_type": "code",
   "execution_count": 2,
   "metadata": {},
   "outputs": [
    {
     "data": {
      "text/html": [
       "<div>\n",
       "<style scoped>\n",
       "    .dataframe tbody tr th:only-of-type {\n",
       "        vertical-align: middle;\n",
       "    }\n",
       "\n",
       "    .dataframe tbody tr th {\n",
       "        vertical-align: top;\n",
       "    }\n",
       "\n",
       "    .dataframe thead th {\n",
       "        text-align: right;\n",
       "    }\n",
       "</style>\n",
       "<table border=\"1\" class=\"dataframe\">\n",
       "  <thead>\n",
       "    <tr style=\"text-align: right;\">\n",
       "      <th></th>\n",
       "      <th>Text</th>\n",
       "      <th>Date</th>\n",
       "      <th>Favorites</th>\n",
       "      <th>Retweets</th>\n",
       "      <th>Tweet ID</th>\n",
       "    </tr>\n",
       "  </thead>\n",
       "  <tbody>\n",
       "    <tr>\n",
       "      <th>0</th>\n",
       "      <td>See you at 7:00 P.M. tonight Phoenix, Arizona!...</td>\n",
       "      <td>2017-08-22 13:03:41</td>\n",
       "      <td>17770</td>\n",
       "      <td>4424</td>\n",
       "      <td>900086092107571200</td>\n",
       "    </tr>\n",
       "    <tr>\n",
       "      <th>1</th>\n",
       "      <td>We pray for our fallen heroes who died while s...</td>\n",
       "      <td>2017-08-22 12:15:40</td>\n",
       "      <td>32231</td>\n",
       "      <td>7693</td>\n",
       "      <td>900074005205528578</td>\n",
       "    </tr>\n",
       "    <tr>\n",
       "      <th>2</th>\n",
       "      <td>Was with great people last night in Fort Myer,...</td>\n",
       "      <td>2017-08-22 03:46:29</td>\n",
       "      <td>68298</td>\n",
       "      <td>12485</td>\n",
       "      <td>899945866991206400</td>\n",
       "    </tr>\n",
       "    <tr>\n",
       "      <th>3</th>\n",
       "      <td>Address to the Nation\\nFull Video &amp; Transcript...</td>\n",
       "      <td>2017-08-21 20:50:09</td>\n",
       "      <td>42677</td>\n",
       "      <td>11555</td>\n",
       "      <td>899841094761848832</td>\n",
       "    </tr>\n",
       "    <tr>\n",
       "      <th>4</th>\n",
       "      <td>Thank you to the men and women of Fort Myer, a...</td>\n",
       "      <td>2017-08-21 20:20:50</td>\n",
       "      <td>60742</td>\n",
       "      <td>13013</td>\n",
       "      <td>899833714363949056</td>\n",
       "    </tr>\n",
       "  </tbody>\n",
       "</table>\n",
       "</div>"
      ],
      "text/plain": [
       "                                                Text                 Date  \\\n",
       "0  See you at 7:00 P.M. tonight Phoenix, Arizona!...  2017-08-22 13:03:41   \n",
       "1  We pray for our fallen heroes who died while s...  2017-08-22 12:15:40   \n",
       "2  Was with great people last night in Fort Myer,...  2017-08-22 03:46:29   \n",
       "3  Address to the Nation\\nFull Video & Transcript...  2017-08-21 20:50:09   \n",
       "4  Thank you to the men and women of Fort Myer, a...  2017-08-21 20:20:50   \n",
       "\n",
       "   Favorites  Retweets            Tweet ID  \n",
       "0      17770      4424  900086092107571200  \n",
       "1      32231      7693  900074005205528578  \n",
       "2      68298     12485  899945866991206400  \n",
       "3      42677     11555  899841094761848832  \n",
       "4      60742     13013  899833714363949056  "
      ]
     },
     "execution_count": 2,
     "metadata": {},
     "output_type": "execute_result"
    }
   ],
   "source": [
    "#import data and read into dataset \n",
    "import pandas as pd\n",
    "\n",
    "data = pd.read_csv('djt_tweets.csv')\n",
    "data.head(5)"
   ]
  },
  {
   "cell_type": "code",
   "execution_count": 3,
   "metadata": {},
   "outputs": [],
   "source": [
    "#need to clean data and make more readable. Remove punctuation and turn to lower case\n",
    "\n",
    "import re \n",
    "\n",
    "def normalize_text(text):\n",
    "    text = text.lower()\n",
    "    text = re.sub(\"[^A-Za-z0-9\\s]\", \"\", text)\n",
    "    return text\n",
    "\n",
    "data['clean_tweet'] = data['Text'].apply(normalize_text)"
   ]
  },
  {
   "cell_type": "code",
   "execution_count": 4,
   "metadata": {},
   "outputs": [
    {
     "data": {
      "text/plain": [
       "0    see you at 700 pm tonight phoenix arizona maga...\n",
       "1    we pray for our fallen heroes who died while s...\n",
       "2    was with great people last night in fort myer ...\n",
       "3    address to the nation\\nfull video  transcript\\...\n",
       "4    thank you to the men and women of fort myer an...\n",
       "Name: clean_tweet, dtype: object"
      ]
     },
     "execution_count": 4,
     "metadata": {},
     "output_type": "execute_result"
    }
   ],
   "source": [
    "data['clean_tweet'].head(5)"
   ]
  },
  {
   "cell_type": "code",
   "execution_count": 5,
   "metadata": {},
   "outputs": [
    {
     "data": {
      "text/plain": [
       "Text           0\n",
       "Date           0\n",
       "Favorites      0\n",
       "Retweets       0\n",
       "Tweet ID       0\n",
       "clean_tweet    0\n",
       "dtype: int64"
      ]
     },
     "execution_count": 5,
     "metadata": {},
     "output_type": "execute_result"
    }
   ],
   "source": [
    "#check the data for any null values which may make our analysis difficult later on\n",
    "\n",
    "data_clean = data.dropna()\n",
    "data_clean.isnull().sum()"
   ]
  },
  {
   "cell_type": "code",
   "execution_count": 6,
   "metadata": {},
   "outputs": [
    {
     "data": {
      "text/plain": [
       "0    [see, you, at, 700, pm, tonight, phoenix, ariz...\n",
       "1    [we, pray, for, our, fallen, heroes, who, died...\n",
       "2    [was, with, great, people, last, night, in, fo...\n",
       "3    [address, to, the, nation\\nfull, video, , tran...\n",
       "4    [thank, you, to, the, men, and, women, of, for...\n",
       "Name: clean_tweet, dtype: object"
      ]
     },
     "execution_count": 6,
     "metadata": {},
     "output_type": "execute_result"
    }
   ],
   "source": [
    "#create new variable with tweets split on space\n",
    "\n",
    "clean_tweets = data_clean['clean_tweet']\n",
    "split_tweets = clean_tweets.str.split(' ')\n",
    "split_tweets.head(5)"
   ]
  },
  {
   "cell_type": "markdown",
   "metadata": {},
   "source": [
    "# Starting the analysis\n",
    "\n",
    "Now we have cleaned our data we are in a position to investigate it further. We will start by checking the various dataframes we have created to see if the results they return differ at all. This is to check whether the data we have cleaned functions are intended. \n",
    "\n",
    "The datasets to check are the original tweets (data['Text']), the tweets stripped of punctuation and put into lowercase (data['clean_tweet']) and lastly tweets split into lists of words (split_tweets). To compare the datasets we will be searching each dataset for occurrences of 'obama' (all lowercase)."
   ]
  },
  {
   "cell_type": "code",
   "execution_count": 7,
   "metadata": {},
   "outputs": [
    {
     "name": "stdout",
     "output_type": "stream",
     "text": [
      "The word Obama appears 2622 times\n",
      "The word obama appears 91 times\n",
      "The word obamacare appears 21 times\n",
      "The word Obamacare appears 101 times\n"
     ]
    }
   ],
   "source": [
    "#find no. of 'obama' occurrences in original and unchanged tweets \n",
    "\n",
    "obama_variations = ['Obama', 'obama', 'obamacare', 'Obamacare']\n",
    "\n",
    "def word_counter(word_list, data):\n",
    "    for word in word_list:\n",
    "        count = 0 \n",
    "        for item in data:\n",
    "            if word in item:\n",
    "                count += 1\n",
    "        print('The word', word, 'appears', count, 'times')\n",
    "\n",
    "word_counter(obama_variations, data['Text'])"
   ]
  },
  {
   "cell_type": "code",
   "execution_count": 8,
   "metadata": {},
   "outputs": [
    {
     "name": "stdout",
     "output_type": "stream",
     "text": [
      "The word Obama appears 0 times\n",
      "The word obama appears 2670 times\n",
      "The word obamacare appears 491 times\n",
      "The word Obamacare appears 0 times\n"
     ]
    }
   ],
   "source": [
    "#find no. of 'obama' occurences in cleaned data - 'obama' appears 2670 times (48 fewer occurrences) \n",
    "#as expected, after cleaning text, no occurrences of 'Obama' found\n",
    "\n",
    "def word_counter(word_list, data):\n",
    "    for word in word_list:\n",
    "        count = 0 \n",
    "        for item in data:\n",
    "            if word in item:\n",
    "                count += 1\n",
    "        print('The word', word, 'appears', count, 'times')\n",
    "        \n",
    "word_counter(obama_variations, data['clean_tweet'])"
   ]
  },
  {
   "cell_type": "code",
   "execution_count": 9,
   "metadata": {},
   "outputs": [
    {
     "name": "stdout",
     "output_type": "stream",
     "text": [
      "The word Obama appears 0 times\n",
      "The word obama appears 1211 times\n",
      "The word obamacare appears 448 times\n",
      "The word Obamacare appears 0 times\n"
     ]
    }
   ],
   "source": [
    "#after splitting tweets on comma parameter, we occurrences of 'obama' have more than halved!\n",
    "#what the devil is going on? \n",
    "\n",
    "def word_counter(word_list, data):\n",
    "    for word in word_list:\n",
    "        count = 0 \n",
    "        for item in data:\n",
    "            if word in item:\n",
    "                count += 1\n",
    "        print('The word', word, 'appears', count, 'times')\n",
    "\n",
    "word_counter(obama_variations, split_tweets)"
   ]
  },
  {
   "cell_type": "code",
   "execution_count": 10,
   "metadata": {},
   "outputs": [
    {
     "data": {
      "text/html": [
       "<div>\n",
       "<style scoped>\n",
       "    .dataframe tbody tr th:only-of-type {\n",
       "        vertical-align: middle;\n",
       "    }\n",
       "\n",
       "    .dataframe tbody tr th {\n",
       "        vertical-align: top;\n",
       "    }\n",
       "\n",
       "    .dataframe thead th {\n",
       "        text-align: right;\n",
       "    }\n",
       "</style>\n",
       "<table border=\"1\" class=\"dataframe\">\n",
       "  <thead>\n",
       "    <tr style=\"text-align: right;\">\n",
       "      <th></th>\n",
       "      <th>Cleaned Count</th>\n",
       "      <th>First Count</th>\n",
       "      <th>Split Count</th>\n",
       "    </tr>\n",
       "  </thead>\n",
       "  <tbody>\n",
       "    <tr>\n",
       "      <th>0</th>\n",
       "      <td>2670</td>\n",
       "      <td>91</td>\n",
       "      <td>1211</td>\n",
       "    </tr>\n",
       "  </tbody>\n",
       "</table>\n",
       "</div>"
      ],
      "text/plain": [
       "   Cleaned Count  First Count  Split Count\n",
       "0           2670           91         1211"
      ]
     },
     "execution_count": 10,
     "metadata": {},
     "output_type": "execute_result"
    }
   ],
   "source": [
    "#visually represent these differences - get the result into a seperate dataframe and then display \n",
    "\n",
    "def obama_occur(data):\n",
    "    count = 0 \n",
    "    for tweet in data:\n",
    "        if 'obama' in tweet:\n",
    "            count += 1\n",
    "    return count\n",
    "\n",
    "split_count = obama_occur(split_tweets)\n",
    "clean_count = obama_occur(data['clean_tweet'])\n",
    "first_count = obama_occur(data['Text'])\n",
    "\n",
    "figs = pd.DataFrame(data = {'Cleaned Count' : [clean_count],\n",
    "                            'First Count' : [first_count],\n",
    "                           'Split Count' : [split_count]})\n",
    "figs"
   ]
  },
  {
   "cell_type": "markdown",
   "metadata": {},
   "source": [
    "# Strange results\n",
    "\n",
    "These results are hard to explain. The low number of occurrences of 'obama' in the first dataset is to be expected because the tweets in this dataset have not been changed to lowercase. This also explains the far higher number of results after the tweets have been put into lower case. However, that over 50% of the results disappear after splitting the tweets into lists of words is something I cannot explain at this moment in time. To visualise the relative occurrences of 'obama', they are plotted on a bar chart below."
   ]
  },
  {
   "cell_type": "code",
   "execution_count": 11,
   "metadata": {},
   "outputs": [
    {
     "data": {
      "text/plain": [
       "[]"
      ]
     },
     "execution_count": 11,
     "metadata": {},
     "output_type": "execute_result"
    },
    {
     "data": {
      "image/png": "[encoded data removed]",
      "text/plain": [
       "<matplotlib.figure.Figure at 0x1a0cf9bef0>"
      ]
     },
     "metadata": {},
     "output_type": "display_data"
    }
   ],
   "source": [
    "#import seaborn and display our data on linechart - then need to investigate reasons for this difference \n",
    "%matplotlib inline\n",
    "import matplotlib.pyplot as plt\n",
    "import seaborn as sns\n",
    "\n",
    "sns.barplot(data = figs,\n",
    "           order = ['First Count', 'Cleaned Count', 'Split Count'])\n",
    "plt.title(\"Occurrences of 'obama' in each dataset\")\n",
    "plt.ylabel('Occurrences')\n",
    "plt.xlabel('Dataset')\n",
    "plt.plot()"
   ]
  },
  {
   "cell_type": "markdown",
   "metadata": {},
   "source": [
    "As I am unsure why there has been such a drastic decrease in occurrences of 'obama', I will see whether a similar pattern is observable when examining occurrences of a different term. This time: 'obamacare' "
   ]
  },
  {
   "cell_type": "code",
   "execution_count": 13,
   "metadata": {},
   "outputs": [
    {
     "data": {
      "text/html": [
       "<div>\n",
       "<style scoped>\n",
       "    .dataframe tbody tr th:only-of-type {\n",
       "        vertical-align: middle;\n",
       "    }\n",
       "\n",
       "    .dataframe tbody tr th {\n",
       "        vertical-align: top;\n",
       "    }\n",
       "\n",
       "    .dataframe thead th {\n",
       "        text-align: right;\n",
       "    }\n",
       "</style>\n",
       "<table border=\"1\" class=\"dataframe\">\n",
       "  <thead>\n",
       "    <tr style=\"text-align: right;\">\n",
       "      <th></th>\n",
       "      <th>Cleaned Count</th>\n",
       "      <th>First Count</th>\n",
       "      <th>Split Count</th>\n",
       "    </tr>\n",
       "  </thead>\n",
       "  <tbody>\n",
       "    <tr>\n",
       "      <th>0</th>\n",
       "      <td>491</td>\n",
       "      <td>21</td>\n",
       "      <td>448</td>\n",
       "    </tr>\n",
       "  </tbody>\n",
       "</table>\n",
       "</div>"
      ],
      "text/plain": [
       "   Cleaned Count  First Count  Split Count\n",
       "0            491           21          448"
      ]
     },
     "execution_count": 13,
     "metadata": {},
     "output_type": "execute_result"
    }
   ],
   "source": [
    "#visually represent these differences - get the result into a seperate dataframe and then display \n",
    "\n",
    "def obamacare_occur(data):\n",
    "    count = 0 \n",
    "    for tweet in data:\n",
    "        if 'obamacare' in tweet:\n",
    "            count += 1\n",
    "    return count\n",
    "\n",
    "split_count = obamacare_occur(split_tweets)\n",
    "clean_count = obamacare_occur(data['clean_tweet'])\n",
    "first_count = obamacare_occur(data['Text'])\n",
    "\n",
    "figs = pd.DataFrame(data = {'First Count' : [first_count],\n",
    "                           'Cleaned Count' : [clean_count],\n",
    "                           'Split Count' : [split_count]})\n",
    "figs"
   ]
  },
  {
   "cell_type": "code",
   "execution_count": 14,
   "metadata": {},
   "outputs": [
    {
     "data": {
      "text/plain": [
       "[]"
      ]
     },
     "execution_count": 14,
     "metadata": {},
     "output_type": "execute_result"
    },
    {
     "data": {
      "image/png": "[encoded data removed]",
      "text/plain": [
       "<matplotlib.figure.Figure at 0x1a15ffc940>"
      ]
     },
     "metadata": {},
     "output_type": "display_data"
    }
   ],
   "source": [
    "%matplotlib inline\n",
    "import matplotlib.pyplot as plt\n",
    "import seaborn as sns\n",
    "\n",
    "sns.barplot(data = figs,\n",
    "           order = ['First Count', 'Cleaned Count', 'Split Count'])\n",
    "plt.title(\"Occurrences of 'obamacare' in each dataset\")\n",
    "plt.ylabel('Occurrences')\n",
    "plt.xlabel('Data')\n",
    "plt.plot()"
   ]
  },
  {
   "cell_type": "markdown",
   "metadata": {},
   "source": [
    "While the increase in the number of returns between the first and cleaned counts is expected, there is again a decrease - albeit this time less drastic - when the tweets are split into lists of words. I am at a loss as to why this has happened. From here on out, the 'cleaned data' set will be the one used in our analysis. This is because I feel it more likely that decent results are being excluded in the 'split' dataset.\n",
    "\n",
    "# Next step: seeing occurrences over time\n",
    "\n",
    "Now we will explore when Trump posted about certain topics. It will be interesting to examine, for example, whether certain themes are limited to distinct periods of time, or whether this focus on topics remains constant throughout time. "
   ]
  },
  {
   "cell_type": "code",
   "execution_count": 15,
   "metadata": {},
   "outputs": [
    {
     "name": "stdout",
     "output_type": "stream",
     "text": [
      "The first tweet is from 2009-05-04 11:54:25 the last tweet is from 2017-08-22 13:03:41 , giving us a range of about 8 years\n"
     ]
    }
   ],
   "source": [
    "#first, explore the data's date range using datetime\n",
    "\n",
    "import datetime \n",
    "data['datetime'] = pd.to_datetime(data['Date'])\n",
    "\n",
    "low = data['datetime'].min()\n",
    "high = data['datetime'].max()\n",
    "\n",
    "print('The first tweet is from',low,'the last tweet is from',high,', giving us a range of about 8 years')"
   ]
  },
  {
   "cell_type": "markdown",
   "metadata": {},
   "source": [
    "Our dataset covers a period from May 2009 to August 2017 - a range of about eight years. "
   ]
  },
  {
   "cell_type": "code",
   "execution_count": 16,
   "metadata": {},
   "outputs": [
    {
     "name": "stdout",
     "output_type": "stream",
     "text": [
      "Mentions of \"obama\" by year, shown by month\n",
      " [11, 9, 18, 9, 11, 18, 13, 2, 0, 0, 0, 0] \n",
      " [8, 12, 9, 0, 7, 16, 14, 11, 10, 39, 9, 2] \n",
      " [16, 13, 11, 30, 22, 8, 26, 3, 8, 13, 17, 15] \n",
      " [16, 10, 25, 27, 23, 39, 43, 24, 42, 104, 62, 39] \n",
      " [45, 30, 18, 30, 33, 20, 25, 45, 88, 77, 76, 37] \n",
      " [73, 75, 68, 54, 69, 74, 129, 111, 113, 219, 72, 9] \n",
      ", [0, 0, 0, 0, 0, 0, 25, 22, 38, 29, 50, 51] \n",
      " [0, 0, 0, 0, 0, 0, 0, 0, 0, 0, 1, 0] \n",
      " [0, 0, 0, 0, 0, 0, 0, 0, 0, 0, 0, 0]\n"
     ]
    }
   ],
   "source": [
    "#better way to do this... surely\n",
    "\n",
    "def year_month_finder(year, data):\n",
    "    this_year = data[data.datetime.dt.year == year]\n",
    "    monthly_list = []\n",
    "    \n",
    "    for i in range(1,13):    \n",
    "        count = 0\n",
    "        this_month = this_year[this_year.datetime.dt.month == i]\n",
    "        for tweet in this_month['clean_tweet']:\n",
    "            if 'obama' in tweet:\n",
    "                count = count + 1\n",
    "        monthly_list.append(count)\n",
    "            \n",
    "        \n",
    "    return monthly_list\n",
    "    \n",
    "year_2017 = year_month_finder(2017, data)\n",
    "year_2016 = year_month_finder(2016, data)\n",
    "year_2015 = year_month_finder(2015, data)\n",
    "year_2014 = year_month_finder(2014, data)\n",
    "year_2013 = year_month_finder(2013, data)\n",
    "year_2012 = year_month_finder(2012, data)\n",
    "year_2011 = year_month_finder(2011, data)\n",
    "year_2010 = year_month_finder(2010, data)\n",
    "year_2009 = year_month_finder(2009, data)\n",
    "print ('Mentions of \"obama\" by year, shown by month\\n',\n",
    "       year_2017, '\\n',year_2016,'\\n', year_2015,'\\n',year_2014,'\\n',year_2013,\n",
    "       '\\n',year_2012,'\\n,', year_2011, '\\n', year_2010, '\\n', year_2009)"
   ]
  },
  {
   "cell_type": "markdown",
   "metadata": {},
   "source": [
    "The output from this code is ugly, yet it serves to show that the spread of Trump's tweets which mention 'obama' are not evenly distributed. \n",
    "\n",
    "By storing the annual figures in a dictionary it is easily to display them on a graph, which is done below.\n",
    "\n",
    "Overall I am happy that I was able to get the results from this data, but the code is bulky, ugly and its results are not particularly flexible and leave much to be desired. "
   ]
  },
  {
   "cell_type": "code",
   "execution_count": 17,
   "metadata": {},
   "outputs": [
    {
     "name": "stdout",
     "output_type": "stream",
     "text": [
      "{2017: 91, 2016: 137, 2015: 182, 2014: 454, 2013: 524, 2012: 1066, 2011: 215, 2010: 1, 2009: 0}\n"
     ]
    }
   ],
   "source": [
    "years = (2017,2016,2015,2014,2013,2012,2011,2010,2009)\n",
    "years_dict = {}\n",
    "\n",
    "for year in years:\n",
    "    count = 0\n",
    "    this_year = data[data.datetime.dt.year == year]  \n",
    "    for tweet in this_year['clean_tweet']:\n",
    "        if 'obama' in tweet:\n",
    "            count += 1      \n",
    "    years_dict[year] = count\n",
    "\n",
    "print(years_dict)"
   ]
  },
  {
   "cell_type": "code",
   "execution_count": 18,
   "metadata": {},
   "outputs": [
    {
     "data": {
      "text/plain": [
       "([<matplotlib.axis.XTick at 0x1a16003eb8>,\n",
       "  <matplotlib.axis.XTick at 0x1a16056f28>,\n",
       "  <matplotlib.axis.XTick at 0x1a15ffc2b0>,\n",
       "  <matplotlib.axis.XTick at 0x1a16213da0>,\n",
       "  <matplotlib.axis.XTick at 0x1a16219438>,\n",
       "  <matplotlib.axis.XTick at 0x1a16219a90>,\n",
       "  <matplotlib.axis.XTick at 0x1a16220160>,\n",
       "  <matplotlib.axis.XTick at 0x1a162207f0>,\n",
       "  <matplotlib.axis.XTick at 0x1a16220e80>],\n",
       " <a list of 9 Text xticklabel objects>)"
      ]
     },
     "execution_count": 18,
     "metadata": {},
     "output_type": "execute_result"
    },
    {
     "data": {
      "image/png": "[encoded data removed]",
      "text/plain": [
       "<matplotlib.figure.Figure at 0x1a1605d7b8>"
      ]
     },
     "metadata": {},
     "output_type": "display_data"
    }
   ],
   "source": [
    "import matplotlib.pyplot as plt\n",
    "\n",
    "dictionary = plt.figure()\n",
    "D = years_dict\n",
    "\n",
    "plt.plot(range(len(D)), D.values())\n",
    "plt.gca().invert_xaxis()\n",
    "plt.title('Occurrences of \"obama\" over time')\n",
    "plt.ylabel('Occurrences')\n",
    "plt.xlabel('Year')\n",
    "plt.xticks(range(len(D)), D.keys())"
   ]
  },
  {
   "cell_type": "markdown",
   "metadata": {},
   "source": [
    "## From not mentioning Obama to the White House in just a few years\n",
    "\n",
    "Interesting results! During 2009 and 2010 Trump only tweeted about Obama once and even this was in passing. He began to tweet a lot more frequently during 2011 and then in the 2012 presidential election year. \n",
    "\n",
    "It appears that from tweeting about the then-president once in 2010, Trump became president himself in 2016 - quite a rapid turn of events. \n",
    "\n",
    "Problems with this: I dislike that the data is not granular enough - it would be more useful to view mentions by month, not but annual totals. Due to the way in which I stored the data (a dictionary) it is hard to manipulate the data effectively, meaning that this imperfect method will stay for now. In future I hope to repeat this project - when doing so I will make these types of charts far more granular. \n",
    "\n",
    "Below we have repeated the steps for a few other phrases that are associated with President Trump. The first is 'fake news' and the second is 'jeb' - referring to fellow Republican Jeb Bush who also ran for the GOP candidacy."
   ]
  },
  {
   "cell_type": "code",
   "execution_count": 19,
   "metadata": {},
   "outputs": [
    {
     "name": "stdout",
     "output_type": "stream",
     "text": [
      "{2017: 90, 2016: 1, 2015: 0, 2014: 0, 2013: 0, 2012: 0, 2011: 0, 2010: 0, 2009: 0}\n"
     ]
    }
   ],
   "source": [
    "#first for 'fake news'\n",
    "\n",
    "years = (2017,2016,2015,2014,2013,2012,2011,2010,2009)\n",
    "years_dict = {}\n",
    "\n",
    "for year in years:\n",
    "    count = 0\n",
    "    this_year = data[data.datetime.dt.year == year]  \n",
    "    for tweet in this_year['clean_tweet']:\n",
    "        if 'fake news' in tweet:\n",
    "            count += 1      \n",
    "    years_dict[year] = count\n",
    "\n",
    "print(years_dict)"
   ]
  },
  {
   "cell_type": "code",
   "execution_count": 20,
   "metadata": {},
   "outputs": [
    {
     "data": {
      "text/plain": [
       "([<matplotlib.axis.XTick at 0x1a160561d0>,\n",
       "  <matplotlib.axis.XTick at 0x1a161b8780>,\n",
       "  <matplotlib.axis.XTick at 0x1a15fd2c88>,\n",
       "  <matplotlib.axis.XTick at 0x1a16011e48>,\n",
       "  <matplotlib.axis.XTick at 0x1a16011f98>,\n",
       "  <matplotlib.axis.XTick at 0x1a1600bb70>,\n",
       "  <matplotlib.axis.XTick at 0x1a1600b860>,\n",
       "  <matplotlib.axis.XTick at 0x1a1605d1d0>,\n",
       "  <matplotlib.axis.XTick at 0x1a15ffc828>],\n",
       " <a list of 9 Text xticklabel objects>)"
      ]
     },
     "execution_count": 20,
     "metadata": {},
     "output_type": "execute_result"
    },
    {
     "data": {
      "image/png": "[encoded data removed]",
      "text/plain": [
       "<matplotlib.figure.Figure at 0x1a161b8ba8>"
      ]
     },
     "metadata": {},
     "output_type": "display_data"
    }
   ],
   "source": [
    "D = years_dict\n",
    "\n",
    "plt.plot(range(len(D)), D.values())\n",
    "plt.gca().invert_xaxis()\n",
    "plt.title('Occurrences of \"fake news\" over time')\n",
    "plt.ylabel('Occurrences')\n",
    "plt.xlabel('Year')\n",
    "plt.xticks(range(len(D)), D.keys())"
   ]
  },
  {
   "cell_type": "markdown",
   "metadata": {},
   "source": [
    "## Fake news from nowhere\n",
    "\n",
    "As can be seen, the term 'fake news' appears relatively out of the blue in 2017. Receiving only one mention in his tweets in 2016, the term becomes commonplace in 2017. "
   ]
  },
  {
   "cell_type": "code",
   "execution_count": 21,
   "metadata": {},
   "outputs": [
    {
     "name": "stdout",
     "output_type": "stream",
     "text": [
      "{2017: 2, 2016: 60, 2015: 192, 2014: 14, 2013: 1, 2012: 1, 2011: 0, 2010: 0, 2009: 0}\n"
     ]
    }
   ],
   "source": [
    "years = (2017,2016,2015,2014,2013,2012,2011,2010,2009)\n",
    "years_dict = {}\n",
    "\n",
    "for year in years:\n",
    "    count = 0\n",
    "    this_year = data[data.datetime.dt.year == year]  \n",
    "    for tweet in this_year['clean_tweet']:\n",
    "        if 'jeb' in tweet:\n",
    "            count += 1      \n",
    "    years_dict[year] = count\n",
    "\n",
    "print(years_dict)"
   ]
  },
  {
   "cell_type": "code",
   "execution_count": 22,
   "metadata": {},
   "outputs": [
    {
     "data": {
      "text/plain": [
       "([<matplotlib.axis.XTick at 0x1a1606e2e8>,\n",
       "  <matplotlib.axis.XTick at 0x1a15fd2d68>,\n",
       "  <matplotlib.axis.XTick at 0x1a161f7908>,\n",
       "  <matplotlib.axis.XTick at 0x1a0d06e390>,\n",
       "  <matplotlib.axis.XTick at 0x1a160032e8>,\n",
       "  <matplotlib.axis.XTick at 0x1a16003160>,\n",
       "  <matplotlib.axis.XTick at 0x1a16003dd8>,\n",
       "  <matplotlib.axis.XTick at 0x1a12a5f860>,\n",
       "  <matplotlib.axis.XTick at 0x1a12a5f470>],\n",
       " <a list of 9 Text xticklabel objects>)"
      ]
     },
     "execution_count": 22,
     "metadata": {},
     "output_type": "execute_result"
    },
    {
     "data": {
      "image/png": "[encoded data removed]",
      "text/plain": [
       "<matplotlib.figure.Figure at 0x1a12ad8e80>"
      ]
     },
     "metadata": {},
     "output_type": "display_data"
    }
   ],
   "source": [
    "D = years_dict\n",
    "\n",
    "plt.plot(range(len(D)), D.values())\n",
    "plt.gca().invert_xaxis()\n",
    "plt.title('Occurrences of \"jeb\" over time')\n",
    "plt.ylabel('Occurrences')\n",
    "plt.xlabel('Year')\n",
    "plt.xticks(range(len(D)), D.keys())"
   ]
  },
  {
   "cell_type": "markdown",
   "metadata": {},
   "source": [
    "## Jeb - from relevance to irrelevance\n",
    "\n",
    "Mentions of Jeb Bush unsurprisingly peak during the Republican nomination process. This chart, however, reveals a problem in its lack of detail. Jeb Bush withdrew his candidacy in February 2016: it is likely that January and February 2016 saw a very high number of mentions of 'jeb', yet due to the data's scope this is not noticeable here. Nevertheless, the graph does demonstrate the fall in fortunes of Jeb Bush's candidacy. If the data were more granular, I would assume that mentions of 'jeb' after February 2016 are extremely few and far between, and would in fact amplify the trend displayed on the graph above. \n",
    "\n",
    "## America First - what do the tweets say? \n",
    "\n",
    "As a President whose motto is 'America First' it may be worth investigating what the focus of his attention is when tweeting about countries other than the United States. This will give us insight into the geostrategic concerns of President Trump, particularly as he is often accused of having too close relations to countries such as Russia."
   ]
  },
  {
   "cell_type": "code",
   "execution_count": 23,
   "metadata": {},
   "outputs": [
    {
     "data": {
      "text/html": [
       "<div>\n",
       "<style scoped>\n",
       "    .dataframe tbody tr th:only-of-type {\n",
       "        vertical-align: middle;\n",
       "    }\n",
       "\n",
       "    .dataframe tbody tr th {\n",
       "        vertical-align: top;\n",
       "    }\n",
       "\n",
       "    .dataframe thead th {\n",
       "        text-align: right;\n",
       "    }\n",
       "</style>\n",
       "<table border=\"1\" class=\"dataframe\">\n",
       "  <thead>\n",
       "    <tr style=\"text-align: right;\">\n",
       "      <th></th>\n",
       "      <th>Country</th>\n",
       "    </tr>\n",
       "  </thead>\n",
       "  <tbody>\n",
       "    <tr>\n",
       "      <th>0</th>\n",
       "      <td>AF:Afghanistan</td>\n",
       "    </tr>\n",
       "    <tr>\n",
       "      <th>1</th>\n",
       "      <td>AL:Albania</td>\n",
       "    </tr>\n",
       "    <tr>\n",
       "      <th>2</th>\n",
       "      <td>DZ:Algeria</td>\n",
       "    </tr>\n",
       "    <tr>\n",
       "      <th>3</th>\n",
       "      <td>AS:American Samoa</td>\n",
       "    </tr>\n",
       "    <tr>\n",
       "      <th>4</th>\n",
       "      <td>AD:Andorra</td>\n",
       "    </tr>\n",
       "  </tbody>\n",
       "</table>\n",
       "</div>"
      ],
      "text/plain": [
       "             Country\n",
       "0     AF:Afghanistan\n",
       "1         AL:Albania\n",
       "2         DZ:Algeria\n",
       "3  AS:American Samoa\n",
       "4         AD:Andorra"
      ]
     },
     "execution_count": 23,
     "metadata": {},
     "output_type": "execute_result"
    }
   ],
   "source": [
    "#first step is into import a list of country names\n",
    "countries = pd.read_csv('country_names.txt')\n",
    "countries.head()"
   ]
  },
  {
   "cell_type": "code",
   "execution_count": 24,
   "metadata": {},
   "outputs": [],
   "source": [
    "#make lower case and create list of countries using just the country names, not the codes\n",
    "\n",
    "countries['Country'] = countries['Country'].str.lower()\n",
    "country_list = []\n",
    "\n",
    "for country in countries['Country']:\n",
    "    country_name = country[3:]\n",
    "    country_list.append(country_name)\n",
    "\n",
    "#I also manually inserted a few common abbreviations into the text file, such as UK for United Kingdom\n"
   ]
  },
  {
   "cell_type": "code",
   "execution_count": 25,
   "metadata": {},
   "outputs": [],
   "source": [
    "#make country counter than that creates dictionary\n",
    "\n",
    "def country_counter(country_list, data):\n",
    "    country_dict = {}\n",
    "    for country in country_list:\n",
    "        count = 0 \n",
    "        for item in data:\n",
    "            if country in item:\n",
    "                count += 1\n",
    "        country_dict[country] = count\n",
    "    return country_dict\n",
    "        \n",
    "countries = country_counter(country_list, data['clean_tweet'])"
   ]
  },
  {
   "cell_type": "code",
   "execution_count": 26,
   "metadata": {},
   "outputs": [],
   "source": [
    "#turn the dictionary into a dataframe so that it is easier to work with \n",
    "\n",
    "countries_df = pd.DataFrame.from_dict(countries,\n",
    "                                     orient='index')\n",
    "#version of pandas being used does not have 'columns' argument for from_dict...\n",
    "\n",
    "countries_df.columns = ['count']"
   ]
  },
  {
   "cell_type": "code",
   "execution_count": 27,
   "metadata": {},
   "outputs": [],
   "source": [
    "sort_by_count = countries_df.sort_values('count', ascending=False)"
   ]
  },
  {
   "cell_type": "code",
   "execution_count": 28,
   "metadata": {},
   "outputs": [
    {
     "data": {
      "text/html": [
       "<div>\n",
       "<style scoped>\n",
       "    .dataframe tbody tr th:only-of-type {\n",
       "        vertical-align: middle;\n",
       "    }\n",
       "\n",
       "    .dataframe tbody tr th {\n",
       "        vertical-align: top;\n",
       "    }\n",
       "\n",
       "    .dataframe thead th {\n",
       "        text-align: right;\n",
       "    }\n",
       "</style>\n",
       "<table border=\"1\" class=\"dataframe\">\n",
       "  <thead>\n",
       "    <tr style=\"text-align: right;\">\n",
       "      <th></th>\n",
       "      <th>count</th>\n",
       "    </tr>\n",
       "  </thead>\n",
       "  <tbody>\n",
       "    <tr>\n",
       "      <th>us</th>\n",
       "      <td>9449</td>\n",
       "    </tr>\n",
       "    <tr>\n",
       "      <th>america</th>\n",
       "      <td>2564</td>\n",
       "    </tr>\n",
       "    <tr>\n",
       "      <th>usa</th>\n",
       "      <td>644</td>\n",
       "    </tr>\n",
       "    <tr>\n",
       "      <th>china</th>\n",
       "      <td>467</td>\n",
       "    </tr>\n",
       "    <tr>\n",
       "      <th>iran</th>\n",
       "      <td>265</td>\n",
       "    </tr>\n",
       "    <tr>\n",
       "      <th>russia</th>\n",
       "      <td>189</td>\n",
       "    </tr>\n",
       "    <tr>\n",
       "      <th>iraq</th>\n",
       "      <td>165</td>\n",
       "    </tr>\n",
       "    <tr>\n",
       "      <th>united states</th>\n",
       "      <td>147</td>\n",
       "    </tr>\n",
       "    <tr>\n",
       "      <th>mexico</th>\n",
       "      <td>138</td>\n",
       "    </tr>\n",
       "    <tr>\n",
       "      <th>syria</th>\n",
       "      <td>132</td>\n",
       "    </tr>\n",
       "  </tbody>\n",
       "</table>\n",
       "</div>"
      ],
      "text/plain": [
       "               count\n",
       "us              9449\n",
       "america         2564\n",
       "usa              644\n",
       "china            467\n",
       "iran             265\n",
       "russia           189\n",
       "iraq             165\n",
       "united states    147\n",
       "mexico           138\n",
       "syria            132"
      ]
     },
     "execution_count": 28,
     "metadata": {},
     "output_type": "execute_result"
    }
   ],
   "source": [
    "#remove countries with no mentions\n",
    "sort_by_count_no_zero = sort_by_count[sort_by_count['count'] > 0]\n",
    "sort_by_count_no_zero.head(10)"
   ]
  },
  {
   "cell_type": "markdown",
   "metadata": {},
   "source": [
    "## Initial Results \n",
    "\n",
    "The first results reflect something that is not unexpected: the United States is the most commonly mentioned country in Donald Trump's tweets. However, the results may not be entirely accurate. Using 'us' as an abbreviation for United States runs into the problem that it is also a commonly used pronoun. Therefore, it is better to remove this result. \n",
    "\n",
    "After doing so, we will display the results from our country-mention-analysis onto a map using Tableau."
   ]
  },
  {
   "cell_type": "code",
   "execution_count": 29,
   "metadata": {},
   "outputs": [
    {
     "data": {
      "text/html": [
       "<div>\n",
       "<style scoped>\n",
       "    .dataframe tbody tr th:only-of-type {\n",
       "        vertical-align: middle;\n",
       "    }\n",
       "\n",
       "    .dataframe tbody tr th {\n",
       "        vertical-align: top;\n",
       "    }\n",
       "\n",
       "    .dataframe thead th {\n",
       "        text-align: right;\n",
       "    }\n",
       "</style>\n",
       "<table border=\"1\" class=\"dataframe\">\n",
       "  <thead>\n",
       "    <tr style=\"text-align: right;\">\n",
       "      <th></th>\n",
       "      <th>count</th>\n",
       "    </tr>\n",
       "  </thead>\n",
       "  <tbody>\n",
       "    <tr>\n",
       "      <th>america</th>\n",
       "      <td>2564</td>\n",
       "    </tr>\n",
       "    <tr>\n",
       "      <th>usa</th>\n",
       "      <td>644</td>\n",
       "    </tr>\n",
       "    <tr>\n",
       "      <th>china</th>\n",
       "      <td>467</td>\n",
       "    </tr>\n",
       "    <tr>\n",
       "      <th>iran</th>\n",
       "      <td>265</td>\n",
       "    </tr>\n",
       "    <tr>\n",
       "      <th>russia</th>\n",
       "      <td>189</td>\n",
       "    </tr>\n",
       "  </tbody>\n",
       "</table>\n",
       "</div>"
      ],
      "text/plain": [
       "         count\n",
       "america   2564\n",
       "usa        644\n",
       "china      467\n",
       "iran       265\n",
       "russia     189"
      ]
     },
     "execution_count": 29,
     "metadata": {},
     "output_type": "execute_result"
    }
   ],
   "source": [
    "#can't be sure 'us' is not included in other strings, meaning its count is likely too high, so remove this too\n",
    "sort_no_zero_no_us = sort_by_count_no_zero[sort_by_count_no_zero['count'] < 9000]\n",
    "sort_no_zero_no_us.head(5)"
   ]
  },
  {
   "cell_type": "code",
   "execution_count": 30,
   "metadata": {},
   "outputs": [],
   "source": [
    "#export results as .csv file to be able to use with Tableau\n",
    "\n",
    "sort_no_zero_no_us.to_csv('trump_countries.csv')"
   ]
  },
  {
   "cell_type": "markdown",
   "metadata": {},
   "source": [
    "## Spread of data too great\n",
    "\n",
    "When trying to make a map in Tableau with the .csv file above, it soon became apparent that were too many data points. As a result, it is necessary to group countries into more useable entities. To do so, we will group countries by the number of times they are mentioned in Trump's tweets. While we are doing this, we will also remove all mentions to the USA as we are concerned with Trump's mention of foreign countries, not his own."
   ]
  },
  {
   "cell_type": "code",
   "execution_count": 31,
   "metadata": {},
   "outputs": [
    {
     "data": {
      "text/html": [
       "<div>\n",
       "<style scoped>\n",
       "    .dataframe tbody tr th:only-of-type {\n",
       "        vertical-align: middle;\n",
       "    }\n",
       "\n",
       "    .dataframe tbody tr th {\n",
       "        vertical-align: top;\n",
       "    }\n",
       "\n",
       "    .dataframe thead th {\n",
       "        text-align: right;\n",
       "    }\n",
       "</style>\n",
       "<table border=\"1\" class=\"dataframe\">\n",
       "  <thead>\n",
       "    <tr style=\"text-align: right;\">\n",
       "      <th></th>\n",
       "      <th>count</th>\n",
       "    </tr>\n",
       "  </thead>\n",
       "  <tbody>\n",
       "    <tr>\n",
       "      <th>china</th>\n",
       "      <td>467</td>\n",
       "    </tr>\n",
       "    <tr>\n",
       "      <th>iran</th>\n",
       "      <td>265</td>\n",
       "    </tr>\n",
       "    <tr>\n",
       "      <th>russia</th>\n",
       "      <td>189</td>\n",
       "    </tr>\n",
       "    <tr>\n",
       "      <th>iraq</th>\n",
       "      <td>165</td>\n",
       "    </tr>\n",
       "    <tr>\n",
       "      <th>mexico</th>\n",
       "      <td>138</td>\n",
       "    </tr>\n",
       "  </tbody>\n",
       "</table>\n",
       "</div>"
      ],
      "text/plain": [
       "        count\n",
       "china     467\n",
       "iran      265\n",
       "russia    189\n",
       "iraq      165\n",
       "mexico    138"
      ]
     },
     "execution_count": 31,
     "metadata": {},
     "output_type": "execute_result"
    }
   ],
   "source": [
    "#first map on Tableau didn't look good due to spread of data. Instead want to distribute results into bins\n",
    "#and while we are at it, will remove USA and America, and United States\n",
    "\n",
    "sort_no_zero_no_us = sort_by_count_no_zero[sort_by_count_no_zero['count'] < 644]\n",
    "sort_no_zero_no_us = sort_no_zero_no_us.drop('united states')\n",
    "over_300 = sort_no_zero_no_us['count'] > 300\n",
    "\n",
    "countries = sort_no_zero_no_us.copy()\n",
    "\n",
    "countries.head(5)"
   ]
  },
  {
   "cell_type": "code",
   "execution_count": 32,
   "metadata": {},
   "outputs": [
    {
     "data": {
      "text/plain": [
       "china     467\n",
       "iran      265\n",
       "russia    189\n",
       "iraq      165\n",
       "mexico    138\n",
       "Name: count, dtype: int64"
      ]
     },
     "execution_count": 32,
     "metadata": {},
     "output_type": "execute_result"
    }
   ],
   "source": [
    "country_count = countries['count']\n",
    "country_count.head(5)"
   ]
  },
  {
   "cell_type": "code",
   "execution_count": 33,
   "metadata": {},
   "outputs": [],
   "source": [
    "#grouping the data - I feel like there must be a better solution for this but I am not sure what it is\n",
    "\n",
    "def f(row):\n",
    "    if row['count'] <=5:\n",
    "        val = '1-5'\n",
    "    elif row['count'] <= 10:\n",
    "        val = '6-10'\n",
    "    elif row['count'] <= 25:\n",
    "        val = '11-25'\n",
    "    elif row['count'] <= 50:\n",
    "        val = '26-50'\n",
    "    elif row['count'] <=100:\n",
    "        val = '51-100'\n",
    "    elif row['count'] <=200:\n",
    "        val = '101-200'\n",
    "    elif row['count'] <=300:\n",
    "        val = '201-300'\n",
    "    elif row['count'] > 300:\n",
    "        val = 'Over 301'\n",
    "    return val\n",
    "\n",
    "countries['group'] = countries.apply(f, axis=1)"
   ]
  },
  {
   "cell_type": "code",
   "execution_count": 34,
   "metadata": {},
   "outputs": [
    {
     "data": {
      "text/plain": [
       "1-5         56\n",
       "6-10        11\n",
       "26-50       10\n",
       "11-25       10\n",
       "101-200      6\n",
       "51-100       6\n",
       "Over 301     1\n",
       "201-300      1\n",
       "Name: group, dtype: int64"
      ]
     },
     "execution_count": 34,
     "metadata": {},
     "output_type": "execute_result"
    }
   ],
   "source": [
    "countries['group'].value_counts()"
   ]
  },
  {
   "cell_type": "code",
   "execution_count": 56,
   "metadata": {},
   "outputs": [
    {
     "data": {
      "text/html": [
       "<div>\n",
       "<style scoped>\n",
       "    .dataframe tbody tr th:only-of-type {\n",
       "        vertical-align: middle;\n",
       "    }\n",
       "\n",
       "    .dataframe tbody tr th {\n",
       "        vertical-align: top;\n",
       "    }\n",
       "\n",
       "    .dataframe thead th {\n",
       "        text-align: right;\n",
       "    }\n",
       "</style>\n",
       "<table border=\"1\" class=\"dataframe\">\n",
       "  <thead>\n",
       "    <tr style=\"text-align: right;\">\n",
       "      <th></th>\n",
       "      <th>count</th>\n",
       "      <th>group</th>\n",
       "    </tr>\n",
       "  </thead>\n",
       "  <tbody>\n",
       "    <tr>\n",
       "      <th>china</th>\n",
       "      <td>467</td>\n",
       "      <td>Over 301</td>\n",
       "    </tr>\n",
       "    <tr>\n",
       "      <th>iran</th>\n",
       "      <td>265</td>\n",
       "      <td>201-300</td>\n",
       "    </tr>\n",
       "    <tr>\n",
       "      <th>russia</th>\n",
       "      <td>189</td>\n",
       "      <td>101-200</td>\n",
       "    </tr>\n",
       "    <tr>\n",
       "      <th>iraq</th>\n",
       "      <td>165</td>\n",
       "      <td>101-200</td>\n",
       "    </tr>\n",
       "    <tr>\n",
       "      <th>mexico</th>\n",
       "      <td>138</td>\n",
       "      <td>101-200</td>\n",
       "    </tr>\n",
       "    <tr>\n",
       "      <th>syria</th>\n",
       "      <td>132</td>\n",
       "      <td>101-200</td>\n",
       "    </tr>\n",
       "    <tr>\n",
       "      <th>israel</th>\n",
       "      <td>120</td>\n",
       "      <td>101-200</td>\n",
       "    </tr>\n",
       "    <tr>\n",
       "      <th>oman</th>\n",
       "      <td>111</td>\n",
       "      <td>101-200</td>\n",
       "    </tr>\n",
       "    <tr>\n",
       "      <th>cuba</th>\n",
       "      <td>92</td>\n",
       "      <td>51-100</td>\n",
       "    </tr>\n",
       "    <tr>\n",
       "      <th>india</th>\n",
       "      <td>76</td>\n",
       "      <td>51-100</td>\n",
       "    </tr>\n",
       "    <tr>\n",
       "      <th>ireland</th>\n",
       "      <td>75</td>\n",
       "      <td>51-100</td>\n",
       "    </tr>\n",
       "    <tr>\n",
       "      <th>canada</th>\n",
       "      <td>67</td>\n",
       "      <td>51-100</td>\n",
       "    </tr>\n",
       "    <tr>\n",
       "      <th>kenya</th>\n",
       "      <td>62</td>\n",
       "      <td>51-100</td>\n",
       "    </tr>\n",
       "    <tr>\n",
       "      <th>libya</th>\n",
       "      <td>54</td>\n",
       "      <td>51-100</td>\n",
       "    </tr>\n",
       "    <tr>\n",
       "      <th>north korea</th>\n",
       "      <td>47</td>\n",
       "      <td>26-50</td>\n",
       "    </tr>\n",
       "    <tr>\n",
       "      <th>egypt</th>\n",
       "      <td>47</td>\n",
       "      <td>26-50</td>\n",
       "    </tr>\n",
       "    <tr>\n",
       "      <th>georgia</th>\n",
       "      <td>40</td>\n",
       "      <td>26-50</td>\n",
       "    </tr>\n",
       "    <tr>\n",
       "      <th>jordan</th>\n",
       "      <td>39</td>\n",
       "      <td>26-50</td>\n",
       "    </tr>\n",
       "    <tr>\n",
       "      <th>afghanistan</th>\n",
       "      <td>38</td>\n",
       "      <td>26-50</td>\n",
       "    </tr>\n",
       "    <tr>\n",
       "      <th>jersey</th>\n",
       "      <td>29</td>\n",
       "      <td>26-50</td>\n",
       "    </tr>\n",
       "    <tr>\n",
       "      <th>australia</th>\n",
       "      <td>29</td>\n",
       "      <td>26-50</td>\n",
       "    </tr>\n",
       "    <tr>\n",
       "      <th>france</th>\n",
       "      <td>28</td>\n",
       "      <td>26-50</td>\n",
       "    </tr>\n",
       "    <tr>\n",
       "      <th>saudi arabia</th>\n",
       "      <td>27</td>\n",
       "      <td>26-50</td>\n",
       "    </tr>\n",
       "    <tr>\n",
       "      <th>panama</th>\n",
       "      <td>26</td>\n",
       "      <td>26-50</td>\n",
       "    </tr>\n",
       "    <tr>\n",
       "      <th>japan</th>\n",
       "      <td>25</td>\n",
       "      <td>11-25</td>\n",
       "    </tr>\n",
       "  </tbody>\n",
       "</table>\n",
       "</div>"
      ],
      "text/plain": [
       "              count     group\n",
       "china           467  Over 301\n",
       "iran            265   201-300\n",
       "russia          189   101-200\n",
       "iraq            165   101-200\n",
       "mexico          138   101-200\n",
       "syria           132   101-200\n",
       "israel          120   101-200\n",
       "oman            111   101-200\n",
       "cuba             92    51-100\n",
       "india            76    51-100\n",
       "ireland          75    51-100\n",
       "canada           67    51-100\n",
       "kenya            62    51-100\n",
       "libya            54    51-100\n",
       "north korea      47     26-50\n",
       "egypt            47     26-50\n",
       "georgia          40     26-50\n",
       "jordan           39     26-50\n",
       "afghanistan      38     26-50\n",
       "jersey           29     26-50\n",
       "australia        29     26-50\n",
       "france           28     26-50\n",
       "saudi arabia     27     26-50\n",
       "panama           26     26-50\n",
       "japan            25     11-25"
      ]
     },
     "execution_count": 56,
     "metadata": {},
     "output_type": "execute_result"
    }
   ],
   "source": [
    "countries.head(25)"
   ]
  },
  {
   "cell_type": "code",
   "execution_count": 36,
   "metadata": {},
   "outputs": [],
   "source": [
    "#export this as csv for Tableau \n",
    "\n",
    "countries.to_csv('trump_countries.csv')"
   ]
  },
  {
   "cell_type": "markdown",
   "metadata": {},
   "source": [
    "## Lack of UK?\n",
    "\n",
    "Having successfully grouped the countries into their respective ranges, I was surprised that the UK did not appear in the first 25 results. Perhaps due to personal bias (I am from the UK), I wanted to investigate this further to see whether the use of various possible names for the UK (UK, United Kingdom, England, Scotland, Wales, Britain, Great Britain) may not be properly reflected in our initial resuts. "
   ]
  },
  {
   "cell_type": "code",
   "execution_count": 37,
   "metadata": {},
   "outputs": [
    {
     "data": {
      "text/plain": [
       "30"
      ]
     },
     "execution_count": 37,
     "metadata": {},
     "output_type": "execute_result"
    }
   ],
   "source": [
    "#but is UK under represented? Let's look at original data for and find mentions of UK, England, Britain, United Kingdom\n",
    "#and Scotland\n",
    "\n",
    "count = 0\n",
    "for tweet in data['Text']:\n",
    "    if 'UK ' in tweet:\n",
    "        count = count + 1\n",
    "count"
   ]
  },
  {
   "cell_type": "code",
   "execution_count": 38,
   "metadata": {},
   "outputs": [
    {
     "name": "stdout",
     "output_type": "stream",
     "text": [
      "{'England': 12, 'england': 3, 'Scotland': 277, 'scotland': 26, 'Wales': 0, 'wales': 0, 'Northern Ireland': 0, 'northern ireland': 0, 'UK ': 30, ' uk ': 5, 'United Kingdom': 3, 'united kingdom': 0, 'Britain': 12, 'britain': 0, 'Great Britain': 3, ' great britain': 0, \"UK's\": 1, 'UKs': 0}\n",
      "372\n"
     ]
    }
   ],
   "source": [
    "#better to store these in dataframe rather than dictionary?\n",
    "\n",
    "uk_dict = {} \n",
    "uk_words = ['England', 'england', 'Scotland', 'scotland', 'Wales', 'wales', 'Northern Ireland', 'northern ireland', \n",
    "            'UK ', ' uk ', 'United Kingdom', 'united kingdom', 'Britain', 'britain', \n",
    "            'Great Britain',' great britain', \"UK's\", 'UKs']\n",
    "for word in uk_words:\n",
    "    count = 0\n",
    "    for tweet in data['Text']:\n",
    "        if word in tweet:\n",
    "            count += 1      \n",
    "    uk_dict[word] = count\n",
    "\n",
    "print(uk_dict)\n",
    "\n",
    "print(sum(uk_dict.values()))"
   ]
  },
  {
   "cell_type": "markdown",
   "metadata": {},
   "source": [
    "So looking more closely at the UK figures shows that mentions of the UK and its constituent countries is in fact a lot higher than first calculated. This is due to a combination of factors: there are multiple names by which the UK could be referred to as, as well as it being a country composed of four nations. As a result, when combining the counts of all possible variants together the number times the country is mentioned in Trump's tweets is far greater. However, it must also be noted that the overwhelming majority of these mentions are specific to Scotland. This is likely due to him being granted permission to build a golf course there in August 2014. \n",
    "\n",
    "Because of these factors we will only include mentions of the UK as a whole: it would be unfair to overinflate the results for the UK without also going in to equally granular data for other countries.\n",
    "\n",
    "UK = 30, uk = 5, United Kingdom = 3, Britain = 12, Great Britain = 3, UK's = 1\n",
    "\n",
    "Altogether = 54"
   ]
  },
  {
   "cell_type": "code",
   "execution_count": 39,
   "metadata": {},
   "outputs": [
    {
     "data": {
      "text/html": [
       "<div>\n",
       "<style scoped>\n",
       "    .dataframe tbody tr th:only-of-type {\n",
       "        vertical-align: middle;\n",
       "    }\n",
       "\n",
       "    .dataframe tbody tr th {\n",
       "        vertical-align: top;\n",
       "    }\n",
       "\n",
       "    .dataframe thead th {\n",
       "        text-align: right;\n",
       "    }\n",
       "</style>\n",
       "<table border=\"1\" class=\"dataframe\">\n",
       "  <thead>\n",
       "    <tr style=\"text-align: right;\">\n",
       "      <th></th>\n",
       "      <th>count</th>\n",
       "      <th>group</th>\n",
       "    </tr>\n",
       "  </thead>\n",
       "  <tbody>\n",
       "    <tr>\n",
       "      <th>china</th>\n",
       "      <td>467</td>\n",
       "      <td>Over 301</td>\n",
       "    </tr>\n",
       "    <tr>\n",
       "      <th>iran</th>\n",
       "      <td>265</td>\n",
       "      <td>201-300</td>\n",
       "    </tr>\n",
       "    <tr>\n",
       "      <th>russia</th>\n",
       "      <td>189</td>\n",
       "      <td>101-200</td>\n",
       "    </tr>\n",
       "    <tr>\n",
       "      <th>iraq</th>\n",
       "      <td>165</td>\n",
       "      <td>101-200</td>\n",
       "    </tr>\n",
       "    <tr>\n",
       "      <th>mexico</th>\n",
       "      <td>138</td>\n",
       "      <td>101-200</td>\n",
       "    </tr>\n",
       "  </tbody>\n",
       "</table>\n",
       "</div>"
      ],
      "text/plain": [
       "        count     group\n",
       "china     467  Over 301\n",
       "iran      265   201-300\n",
       "russia    189   101-200\n",
       "iraq      165   101-200\n",
       "mexico    138   101-200"
      ]
     },
     "execution_count": 39,
     "metadata": {},
     "output_type": "execute_result"
    }
   ],
   "source": [
    "#check they are in our dataframe - these are the three!\n",
    "countries.drop(labels=['england', 'united kingdom', 'britain'])\n",
    "countries.head()"
   ]
  },
  {
   "cell_type": "markdown",
   "metadata": {},
   "source": [
    "As I cannot figure out how to insert a new line of data into the dataframe I did it manually in the .csv file, which is not perfect but never mind. Using the CSV file created earlier and subsequently modified, we can create a nice visualisation Tableau. \n",
    "\n",
    "Problems with the map: centring the map properly seems awkward to manage (and appears to change depending on which platform the map is used), I should go through and capitalise country names again ('Russia' rather than 'russia'). I also dislike the lack of fill for 0 counts - should be in white rather than transparent. I should also maybe put the US in black."
   ]
  },
  {
   "cell_type": "code",
   "execution_count": 40,
   "metadata": {},
   "outputs": [
    {
     "data": {
      "text/html": [
       "<div class='tableauPlaceholder' id='viz1546655211661' style='position: relative'><noscript><a href='#'><img alt=' ' src='https:&#47;&#47;public.tableau.com&#47;static&#47;images&#47;tr&#47;trumpmaptestexant&#47;Sheet3&#47;1_rss.png' style='border: none' /></a></noscript><object class='tableauViz'  style='display:none;'><param name='host_url' value='https%3A%2F%2Fpublic.tableau.com%2F' /> <param name='embed_code_version' value='3' /> <param name='site_root' value='' /><param name='name' value='trumpmaptestexant&#47;Sheet3' /><param name='tabs' value='no' /><param name='toolbar' value='yes' /><param name='static_image' value='https:&#47;&#47;public.tableau.com&#47;static&#47;images&#47;tr&#47;trumpmaptestexant&#47;Sheet3&#47;1.png' /> <param name='animate_transition' value='yes' /><param name='display_static_image' value='yes' /><param name='display_spinner' value='yes' /><param name='display_overlay' value='yes' /><param name='display_count' value='yes' /></object></div>                <script type='text/javascript'>                    var divElement = document.getElementById('viz1546655211661');                    var vizElement = divElement.getElementsByTagName('object')[0];                    vizElement.style.width='100%';vizElement.style.height=(divElement.offsetWidth*0.75)+'px';                    var scriptElement = document.createElement('script');                    scriptElement.src = 'https://public.tableau.com/javascripts/api/viz_v1.js';                    vizElement.parentNode.insertBefore(scriptElement, vizElement);                </script>"
      ],
      "text/plain": [
       "<IPython.core.display.HTML object>"
      ]
     },
     "metadata": {},
     "output_type": "display_data"
    }
   ],
   "source": [
    "%%HTML \n",
    "<div class='tableauPlaceholder' id='viz1546655211661' style='position: relative'><noscript><a href='#'><img alt=' ' src='https:&#47;&#47;public.tableau.com&#47;static&#47;images&#47;tr&#47;trumpmaptestexant&#47;Sheet3&#47;1_rss.png' style='border: none' /></a></noscript><object class='tableauViz'  style='display:none;'><param name='host_url' value='https%3A%2F%2Fpublic.tableau.com%2F' /> <param name='embed_code_version' value='3' /> <param name='site_root' value='' /><param name='name' value='trumpmaptestexant&#47;Sheet3' /><param name='tabs' value='no' /><param name='toolbar' value='yes' /><param name='static_image' value='https:&#47;&#47;public.tableau.com&#47;static&#47;images&#47;tr&#47;trumpmaptestexant&#47;Sheet3&#47;1.png' /> <param name='animate_transition' value='yes' /><param name='display_static_image' value='yes' /><param name='display_spinner' value='yes' /><param name='display_overlay' value='yes' /><param name='display_count' value='yes' /></object></div>                <script type='text/javascript'>                    var divElement = document.getElementById('viz1546655211661');                    var vizElement = divElement.getElementsByTagName('object')[0];                    vizElement.style.width='100%';vizElement.style.height=(divElement.offsetWidth*0.75)+'px';                    var scriptElement = document.createElement('script');                    scriptElement.src = 'https://public.tableau.com/javascripts/api/viz_v1.js';                    vizElement.parentNode.insertBefore(scriptElement, vizElement);                </script>"
   ]
  },
  {
   "cell_type": "markdown",
   "metadata": {},
   "source": [
    "# Countries\n",
    "\n",
    "From the results above it is unsurprising to find that the top five most commonly mentioned countries in Trump's tweets are 1) China, 2) Iran, 3) Russia, 4) Iraq and 5) Mexico. Each of these countries has either particular relevance to Trump: for example he mentioned China regularly on the campaign trail and accused the country of unfair trading practices that undercut US industry, and Russia, which Trump has been accused of having close ties to. Iran, Iraq and Mexico are also all intimately linked to US foreign policy over the question in period, due to the 'Iran deal' (which Trump heavily criticised), the presence of US troops in Iraq, and Mexico's geographic location at the southern border of the USA.\n",
    "\n",
    "Another slight problem with this analysis is the occcurrence of US states that have the same names as other territories. For example 'Georgia' can be both a US state and the country in the Caucasus, as well as Jersey, with is both a US state and a British Crown dependency. \n",
    "\n",
    "# Trump's Positivity\n",
    "\n",
    "One accusation levelled at Trump regularly is that he is divisive and negative. If this is true, perhaps we could reasonably expect the content of his tweets to be overwhelmingly negative in character. While it is difficult to assess tone and intent in tweets - for example the difficult in judging sarcasm and tone without looking at each individual tweet - we can use the frequency of use of positive and negative adjectives as an imperfect proxy for the tone of Trump's tweets. \n"
   ]
  },
  {
   "cell_type": "code",
   "execution_count": 41,
   "metadata": {},
   "outputs": [
    {
     "data": {
      "text/plain": [
       "{' amazing': 513,\n",
       " 'awesome': 206,\n",
       " 'excellent': 70,\n",
       " 'extraordinary': 5,\n",
       " 'fabulous': 42,\n",
       " 'fantastic': 280,\n",
       " 'good': 1162,\n",
       " 'great': 4721,\n",
       " 'happy': 382,\n",
       " 'joy': 457,\n",
       " 'outstanding': 21,\n",
       " 'phenomenal': 13,\n",
       " 'positive': 83,\n",
       " 'positivity': 0,\n",
       " 'super': 156,\n",
       " 'superb': 25,\n",
       " 'tremendous': 110}"
      ]
     },
     "execution_count": 41,
     "metadata": {},
     "output_type": "execute_result"
    }
   ],
   "source": [
    "#first step is to create dictionary with word counts, then find the top five words and put them into dataframes,\n",
    "#then export to Excel - there is probably a neater and quicker way of doing this\n",
    "\n",
    "trump_positivity_dict = {}\n",
    "positive_adjs = ['good', 'great', 'fantastic', 'super', 'excellent', 'awesome', 'superb',\n",
    "                    ' amazing', 'fabulous', 'outstanding', 'phenomenal',\n",
    "                    'tremendous', 'extraordinary', 'positive', 'positivity', 'happy', 'joy']\n",
    "for word in positive_adjs:\n",
    "    count = 0\n",
    "    for tweet in data['clean_tweet']:\n",
    "        if word in tweet:\n",
    "            count += 1      \n",
    "    trump_positivity_dict[word] = count\n",
    "    \n",
    "trump_positivity_dict"
   ]
  },
  {
   "cell_type": "code",
   "execution_count": 42,
   "metadata": {},
   "outputs": [],
   "source": [
    "#create dataframes for each word \n",
    "#surely a better way to do this\n",
    "\n",
    "def get_word_dates(word):   \n",
    "    tl = []\n",
    "    for index, row in data.iterrows(): \n",
    "        if word in row['clean_tweet']:\n",
    "            temp = (index, row['Date'])\n",
    "            tl.append(temp)\n",
    "    return tl \n",
    "\n",
    "amazing = get_word_dates('amazing')\n",
    "amazing = pd.DataFrame(amazing)\n",
    "great = get_word_dates('great')\n",
    "great = pd.DataFrame(great)\n",
    "good = get_word_dates('good')\n",
    "good = pd.DataFrame(good)\n",
    "joy = get_word_dates('joy')\n",
    "joy = pd.DataFrame(joy)\n",
    "happy = get_word_dates('happy')\n",
    "happy = pd.DataFrame(happy)"
   ]
  },
  {
   "cell_type": "code",
   "execution_count": 43,
   "metadata": {},
   "outputs": [],
   "source": [
    "#export to Excel\n",
    "writer = pd.ExcelWriter('positive_adjs_3.xlsx')\n",
    "amazing.to_excel(writer,'amazing')\n",
    "great.to_excel(writer,'great')\n",
    "good.to_excel(writer,'good')\n",
    "joy.to_excel(writer,'joy')\n",
    "happy.to_excel(writer,'happy')\n",
    "writer.save()"
   ]
  },
  {
   "cell_type": "markdown",
   "metadata": {},
   "source": [
    "Using this Excel spreadsheet I was able to make the following line chart in Tableau, though some observations:\n",
    "1) it needs ticks on all y-axes to make easier to read\n",
    "2) it is a bit useless unless it is shown relative to all tweets: what I actually want to find out is the likelihood of a tweet having a positive word in it, not the actual raw number of occurrences of positive adjectives. I will correct problem no.2 below, though first I will repeat the steps above for negative adjectives "
   ]
  },
  {
   "cell_type": "code",
   "execution_count": 44,
   "metadata": {},
   "outputs": [
    {
     "data": {
      "text/html": [
       "<div class='tableauPlaceholder' id='viz1546750865352' style='position: relative'><noscript><a href='#'><img alt=' ' src='https:&#47;&#47;public.tableau.com&#47;static&#47;images&#47;to&#47;top_5_pov_adjs&#47;Sheet1&#47;1_rss.png' style='border: none' /></a></noscript><object class='tableauViz'  style='display:none;'><param name='host_url' value='https%3A%2F%2Fpublic.tableau.com%2F' /> <param name='embed_code_version' value='3' /> <param name='site_root' value='' /><param name='name' value='top_5_pov_adjs&#47;Sheet1' /><param name='tabs' value='no' /><param name='toolbar' value='yes' /><param name='static_image' value='https:&#47;&#47;public.tableau.com&#47;static&#47;images&#47;to&#47;top_5_pov_adjs&#47;Sheet1&#47;1.png' /> <param name='animate_transition' value='yes' /><param name='display_static_image' value='yes' /><param name='display_spinner' value='yes' /><param name='display_overlay' value='yes' /><param name='display_count' value='yes' /><param name='filter' value='publish=yes' /></object></div>                <script type='text/javascript'>                    var divElement = document.getElementById('viz1546750865352');                    var vizElement = divElement.getElementsByTagName('object')[0];                    vizElement.style.width='100%';vizElement.style.height=(divElement.offsetWidth*0.75)+'px';                    var scriptElement = document.createElement('script');                    scriptElement.src = 'https://public.tableau.com/javascripts/api/viz_v1.js';                    vizElement.parentNode.insertBefore(scriptElement, vizElement);                </script>"
      ],
      "text/plain": [
       "<IPython.core.display.HTML object>"
      ]
     },
     "metadata": {},
     "output_type": "display_data"
    }
   ],
   "source": [
    "%%HTML\n",
    "<div class='tableauPlaceholder' id='viz1546750865352' style='position: relative'><noscript><a href='#'><img alt=' ' src='https:&#47;&#47;public.tableau.com&#47;static&#47;images&#47;to&#47;top_5_pov_adjs&#47;Sheet1&#47;1_rss.png' style='border: none' /></a></noscript><object class='tableauViz'  style='display:none;'><param name='host_url' value='https%3A%2F%2Fpublic.tableau.com%2F' /> <param name='embed_code_version' value='3' /> <param name='site_root' value='' /><param name='name' value='top_5_pov_adjs&#47;Sheet1' /><param name='tabs' value='no' /><param name='toolbar' value='yes' /><param name='static_image' value='https:&#47;&#47;public.tableau.com&#47;static&#47;images&#47;to&#47;top_5_pov_adjs&#47;Sheet1&#47;1.png' /> <param name='animate_transition' value='yes' /><param name='display_static_image' value='yes' /><param name='display_spinner' value='yes' /><param name='display_overlay' value='yes' /><param name='display_count' value='yes' /><param name='filter' value='publish=yes' /></object></div>                <script type='text/javascript'>                    var divElement = document.getElementById('viz1546750865352');                    var vizElement = divElement.getElementsByTagName('object')[0];                    vizElement.style.width='100%';vizElement.style.height=(divElement.offsetWidth*0.75)+'px';                    var scriptElement = document.createElement('script');                    scriptElement.src = 'https://public.tableau.com/javascripts/api/viz_v1.js';                    vizElement.parentNode.insertBefore(scriptElement, vizElement);                </script>"
   ]
  },
  {
   "cell_type": "code",
   "execution_count": 57,
   "metadata": {},
   "outputs": [
    {
     "data": {
      "text/plain": [
       "{'abominable': 0,\n",
       " 'atrocious': 1,\n",
       " 'awful': 14,\n",
       " 'bad': 631,\n",
       " 'crap': 31,\n",
       " 'crummy': 0,\n",
       " 'disgusting': 40,\n",
       " 'dreadful': 1,\n",
       " 'fuck': 21,\n",
       " 'hideous': 1,\n",
       " 'junk': 3,\n",
       " 'lousy': 11,\n",
       " 'revolting': 0,\n",
       " 'sad': 370,\n",
       " 'shame': 74,\n",
       " 'shameful': 7,\n",
       " 'shit': 38,\n",
       " 'slimy': 2,\n",
       " 'terrible': 219,\n",
       " 'unacceptable': 4,\n",
       " 'worse': 126,\n",
       " 'worst': 142}"
      ]
     },
     "execution_count": 57,
     "metadata": {},
     "output_type": "execute_result"
    }
   ],
   "source": [
    "trump_negativity_dict = {}\n",
    "negative_adjs = ['bad','awful','terrible','worse','worst','revolting','disgusting','atrocious','abominable',\n",
    "                'dreadful', 'crummy', 'lousy', 'sad', 'unacceptable','crap','junk', 'crap', 'shit', 'fuck',\n",
    "                'hideous','slimy','shame','shameful']\n",
    "for word in negative_adjs:\n",
    "    count = 0\n",
    "    for tweet in data['clean_tweet']:\n",
    "        if word in tweet:\n",
    "            count += 1      \n",
    "    trump_negativity_dict[word] = count\n",
    "    \n",
    "trump_negativity_dict"
   ]
  },
  {
   "cell_type": "code",
   "execution_count": 58,
   "metadata": {},
   "outputs": [],
   "source": [
    "#this code creates column with boolean values relating to whether the tweet contains either a negative \n",
    "#or positive adjective. This will enable to plot the proportion of negative/positive adjectives in tweets\n",
    "#over time \n",
    "\n",
    "positive_adjs = ['good', 'great', 'fantastic', 'super', 'excellent', 'awesome', 'superb',\n",
    "                    'amazing', 'fabulous', 'outstanding', 'phenomenal', 'strong', 'mighty', 'powerful']\n",
    "def create_pos_col(data):      \n",
    "    if any(word in data for word in positive_adjs):              \n",
    "        return True         \n",
    "    else:             \n",
    "        return False  \n",
    "        \n",
    "data['pos_col'] = data['clean_tweet'].apply(create_pos_col)\n",
    "\n",
    "negative_adjs = ['bad','awful','terrible','worse','worst','revolting','disgusting','atrocious','abominable',\n",
    "                'dreadful', 'crummy', 'lousy', 'sad', 'unacceptable','crap','junk', 'crap', 'shit', 'fuck',\n",
    "                'hideous','slimy','shame','shameful']\n",
    "\n",
    "def create_neg_col(data):      \n",
    "    if any(word in data for word in negative_adjs):              \n",
    "        return True         \n",
    "    else:             \n",
    "        return False  \n",
    "    \n",
    "data['neg_col'] = data['clean_tweet'].apply(create_neg_col)"
   ]
  },
  {
   "cell_type": "code",
   "execution_count": 61,
   "metadata": {},
   "outputs": [
    {
     "data": {
      "text/plain": [
       "Index(['Text', 'Date', 'Favorites', 'Retweets', 'Tweet ID', 'clean_tweet',\n",
       "       'datetime', 'pos_col', 'neg_col'],\n",
       "      dtype='object')"
      ]
     },
     "execution_count": 61,
     "metadata": {},
     "output_type": "execute_result"
    }
   ],
   "source": [
    "#make sure columsn have actually been created \n",
    "data.columns"
   ]
  },
  {
   "cell_type": "code",
   "execution_count": 59,
   "metadata": {},
   "outputs": [],
   "source": [
    "#export data to Excel spreadsheet for use in Tableau \n",
    "writer = pd.ExcelWriter('trump_data.xlsx')\n",
    "data['pos_col'].to_excel(writer,'sheet1')\n",
    "data['neg_col'].to_excel(writer,'sheet2')\n",
    "data['Date'].to_excel(writer,'sheet3')\n",
    "writer.save()"
   ]
  },
  {
   "cell_type": "markdown",
   "metadata": {},
   "source": [
    "Using the Excel spreadsheets created above we can now use Tableau to plot charts showing the relative number of tweets containing positive and negative adjectives: "
   ]
  },
  {
   "cell_type": "code",
   "execution_count": 53,
   "metadata": {},
   "outputs": [
    {
     "data": {
      "text/html": [
       "<div class='tableauPlaceholder' id='viz1548170207194' style='position: relative'><noscript><a href='#'><img alt=' ' src='https:&#47;&#47;public.tableau.com&#47;static&#47;images&#47;ov&#47;overallpositivetweets&#47;Sheet1&#47;1_rss.png' style='border: none' /></a></noscript><object class='tableauViz'  style='display:none;'><param name='host_url' value='https%3A%2F%2Fpublic.tableau.com%2F' /> <param name='embed_code_version' value='3' /> <param name='site_root' value='' /><param name='name' value='overallpositivetweets&#47;Sheet1' /><param name='tabs' value='no' /><param name='toolbar' value='yes' /><param name='static_image' value='https:&#47;&#47;public.tableau.com&#47;static&#47;images&#47;ov&#47;overallpositivetweets&#47;Sheet1&#47;1.png' /> <param name='animate_transition' value='yes' /><param name='display_static_image' value='yes' /><param name='display_spinner' value='yes' /><param name='display_overlay' value='yes' /><param name='display_count' value='yes' /></object></div>                <script type='text/javascript'>                    var divElement = document.getElementById('viz1548170207194');                    var vizElement = divElement.getElementsByTagName('object')[0];                    vizElement.style.width='100%';vizElement.style.height=(divElement.offsetWidth*0.75)+'px';                    var scriptElement = document.createElement('script');                    scriptElement.src = 'https://public.tableau.com/javascripts/api/viz_v1.js';                    vizElement.parentNode.insertBefore(scriptElement, vizElement);                </script>"
      ],
      "text/plain": [
       "<IPython.core.display.HTML object>"
      ]
     },
     "metadata": {},
     "output_type": "display_data"
    }
   ],
   "source": [
    "%%HTML\n",
    "<div class='tableauPlaceholder' id='viz1548170207194' style='position: relative'><noscript><a href='#'><img alt=' ' src='https:&#47;&#47;public.tableau.com&#47;static&#47;images&#47;ov&#47;overallpositivetweets&#47;Sheet1&#47;1_rss.png' style='border: none' /></a></noscript><object class='tableauViz'  style='display:none;'><param name='host_url' value='https%3A%2F%2Fpublic.tableau.com%2F' /> <param name='embed_code_version' value='3' /> <param name='site_root' value='' /><param name='name' value='overallpositivetweets&#47;Sheet1' /><param name='tabs' value='no' /><param name='toolbar' value='yes' /><param name='static_image' value='https:&#47;&#47;public.tableau.com&#47;static&#47;images&#47;ov&#47;overallpositivetweets&#47;Sheet1&#47;1.png' /> <param name='animate_transition' value='yes' /><param name='display_static_image' value='yes' /><param name='display_spinner' value='yes' /><param name='display_overlay' value='yes' /><param name='display_count' value='yes' /></object></div>                <script type='text/javascript'>                    var divElement = document.getElementById('viz1548170207194');                    var vizElement = divElement.getElementsByTagName('object')[0];                    vizElement.style.width='100%';vizElement.style.height=(divElement.offsetWidth*0.75)+'px';                    var scriptElement = document.createElement('script');                    scriptElement.src = 'https://public.tableau.com/javascripts/api/viz_v1.js';                    vizElement.parentNode.insertBefore(scriptElement, vizElement);                </script>\n"
   ]
  },
  {
   "cell_type": "code",
   "execution_count": 54,
   "metadata": {},
   "outputs": [
    {
     "data": {
      "text/html": [
       "<div class='tableauPlaceholder' id='viz1548170593448' style='position: relative'><noscript><a href='#'><img alt=' ' src='https:&#47;&#47;public.tableau.com&#47;static&#47;images&#47;ov&#47;overallnegtweets&#47;Sheet1&#47;1_rss.png' style='border: none' /></a></noscript><object class='tableauViz'  style='display:none;'><param name='host_url' value='https%3A%2F%2Fpublic.tableau.com%2F' /> <param name='embed_code_version' value='3' /> <param name='site_root' value='' /><param name='name' value='overallnegtweets&#47;Sheet1' /><param name='tabs' value='no' /><param name='toolbar' value='yes' /><param name='static_image' value='https:&#47;&#47;public.tableau.com&#47;static&#47;images&#47;ov&#47;overallnegtweets&#47;Sheet1&#47;1.png' /> <param name='animate_transition' value='yes' /><param name='display_static_image' value='yes' /><param name='display_spinner' value='yes' /><param name='display_overlay' value='yes' /><param name='display_count' value='yes' /><param name='filter' value='publish=yes' /></object></div>                <script type='text/javascript'>                    var divElement = document.getElementById('viz1548170593448');                    var vizElement = divElement.getElementsByTagName('object')[0];                    vizElement.style.width='100%';vizElement.style.height=(divElement.offsetWidth*0.75)+'px';                    var scriptElement = document.createElement('script');                    scriptElement.src = 'https://public.tableau.com/javascripts/api/viz_v1.js';                    vizElement.parentNode.insertBefore(scriptElement, vizElement);                </script>"
      ],
      "text/plain": [
       "<IPython.core.display.HTML object>"
      ]
     },
     "metadata": {},
     "output_type": "display_data"
    }
   ],
   "source": [
    "%%HTML\n",
    "<div class='tableauPlaceholder' id='viz1548170593448' style='position: relative'><noscript><a href='#'><img alt=' ' src='https:&#47;&#47;public.tableau.com&#47;static&#47;images&#47;ov&#47;overallnegtweets&#47;Sheet1&#47;1_rss.png' style='border: none' /></a></noscript><object class='tableauViz'  style='display:none;'><param name='host_url' value='https%3A%2F%2Fpublic.tableau.com%2F' /> <param name='embed_code_version' value='3' /> <param name='site_root' value='' /><param name='name' value='overallnegtweets&#47;Sheet1' /><param name='tabs' value='no' /><param name='toolbar' value='yes' /><param name='static_image' value='https:&#47;&#47;public.tableau.com&#47;static&#47;images&#47;ov&#47;overallnegtweets&#47;Sheet1&#47;1.png' /> <param name='animate_transition' value='yes' /><param name='display_static_image' value='yes' /><param name='display_spinner' value='yes' /><param name='display_overlay' value='yes' /><param name='display_count' value='yes' /><param name='filter' value='publish=yes' /></object></div>                <script type='text/javascript'>                    var divElement = document.getElementById('viz1548170593448');                    var vizElement = divElement.getElementsByTagName('object')[0];                    vizElement.style.width='100%';vizElement.style.height=(divElement.offsetWidth*0.75)+'px';                    var scriptElement = document.createElement('script');                    scriptElement.src = 'https://public.tableau.com/javascripts/api/viz_v1.js';                    vizElement.parentNode.insertBefore(scriptElement, vizElement);                </script>"
   ]
  },
  {
   "cell_type": "markdown",
   "metadata": {},
   "source": [
    "What can we see from these two graphs above? On the face of it, Trump's tweets contain a far higher number of positive adjectives than negative adjectives, somewhat dispelling the earlier assumption that his tweets would be more negative in character. Now, these results should be taken with large doses of salt. Problems with this study that I can think of quite quickly are:\n",
    "* the list of adjectives was chosen pretty arbitrarily - whichever adjectives I could think of at the time were included. I'm sure there is a better way of doing this - searching for a list of negative words online etc. \n",
    "* as a result of this we are comparing the totals for 14 positive adjectives and 23 adjectives - though despite this the number of positive adjectives still far outweights negative, underlining our findings \n",
    "* context is key! Distinguishing the tone of these tweets is of great importance but is not possible here: in the course of this investigation we haven't been able to see whether 'positive' adjectives are in fact used in a positive context (for example 'great job... not!' would be a negative sentence in meaning but would feature in our positive results here"
   ]
  },
  {
   "cell_type": "markdown",
   "metadata": {},
   "source": [
    "# What has this project shown us?\n",
    "\n",
    "The main purpose of this project was to practice new skills I have learnt with Python, packages such as a Pandas, and Tableau. \n",
    "\n",
    "Nevertheless, some interesting findings have been made. For example: during the Obama's first term in office and for the beginning of his second, Trump almost never tweeted about the President. Yet within the space of a few years, he himself rose to the position of President. \n",
    "\n",
    "Also, countries mentioned by Trump in his tweets were largely unsurprising and reflect the broad concerns of his presidential campaign: for example China's unfair trade practicses, the Iran deal, the Mexican border and the continued presence of US forces in Iraq. \n",
    "\n",
    "Lastly, the use of words in Trump's tweets may give pause for thought. While there are large problems in analysing his tweets in the method used in this project - with tweets shorn of the context - they are not without merit. It appears on this analysis that Trump's language is far most commonly positive than negative in nature. Whether or not this fits in with the commonly made accusation that Trump is a divisive and negative politician is worthy of further investigation. "
   ]
  },
  {
   "cell_type": "code",
   "execution_count": null,
   "metadata": {},
   "outputs": [],
   "source": []
  }
 ],
 "metadata": {
  "kernelspec": {
   "display_name": "Python 3",
   "language": "python",
   "name": "python3"
  },
  "language_info": {
   "codemirror_mode": {
    "name": "ipython",
    "version": 3
   },
   "file_extension": ".py",
   "mimetype": "text/x-python",
   "name": "python",
   "nbconvert_exporter": "python",
   "pygments_lexer": "ipython3",
   "version": "3.6.4"
  }
 },
 "nbformat": 4,
 "nbformat_minor": 2
}
